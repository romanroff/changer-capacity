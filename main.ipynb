{
 "cells": [
  {
   "cell_type": "code",
   "execution_count": null,
   "id": "a45728e3",
   "metadata": {},
   "outputs": [],
   "source": [
    "import osmnx as ox\n",
    "import pandas as pd\n",
    "import geopandas as gpd\n",
    "from changer_capacity.services.process import process\n",
    "from changer_capacity.utils.get_capacity import get_min_capacity"
   ]
  },
  {
   "cell_type": "code",
   "execution_count": null,
   "id": "9ad4bf85",
   "metadata": {},
   "outputs": [],
   "source": [
    "base_capacity = get_min_capacity()\n",
    "base_capacity"
   ]
  },
  {
   "cell_type": "code",
   "execution_count": null,
   "id": "4da68405",
   "metadata": {},
   "outputs": [],
   "source": [
    "buildings_blocks = gpd.read_file('data/blocks.geojson')\n",
    "acc_mx = pd.read_pickle('data/accessibility_matrix_drive.pickle')"
   ]
  },
  {
   "cell_type": "code",
   "execution_count": null,
   "id": "b2680108",
   "metadata": {},
   "outputs": [],
   "source": [
    "boundaries = ox.geocode_to_gdf('R337422', by_osmid=True)\n",
    "local_crs = boundaries.estimate_utm_crs()"
   ]
  },
  {
   "cell_type": "code",
   "execution_count": null,
   "id": "4dd3de9f",
   "metadata": {},
   "outputs": [],
   "source": [
    "service_type = 'school'\n",
    "service = ox.features_from_polygon(boundaries.to_crs(4326).union_all(), tags={\"amenity\": service_type}).reset_index(drop=True).to_crs(local_crs)"
   ]
  },
  {
   "cell_type": "code",
   "execution_count": null,
   "id": "3be2064b",
   "metadata": {},
   "outputs": [],
   "source": [
    "demand_per_1000 = 120\n",
    "base_count = 250\n",
    "m2_per_person = 14\n",
    "k = 2\n",
    "\n",
    "result, prov_df, prov_df_new = process(service_type, service, buildings_blocks, acc_mx, local_crs, demand_per_1000, base_count, m2_per_person, k)"
   ]
  },
  {
   "cell_type": "code",
   "execution_count": null,
   "id": "abfbed3a",
   "metadata": {},
   "outputs": [],
   "source": [
    "schools_new = result[['geometry','new_capacity']].rename({'new_capacity': 'capacity'}, axis=1)\n",
    "\n",
    "import matplotlib.pyplot as plt\n",
    "import pandas as pd\n",
    "import numpy as np\n",
    "\n",
    "# Filter the data to only include rows where capacity equals 250\n",
    "filtered_data = result[result['capacity'] == 250.0]\n",
    "\n",
    "plt.figure(figsize=(10, 6))\n",
    "BINS = np.arange(200, 2001, 10)\n",
    "\n",
    "# Plot histograms for both columns using the filtered data\n",
    "plt.hist(result['capacity'], alpha=1, label='Capacity (250)', bins=BINS)\n",
    "plt.hist(result['new_capacity'], alpha=0.5, label='New Capacity', bins=BINS)\n",
    "\n",
    "# Add labels and title\n",
    "plt.xlabel('Value')\n",
    "plt.ylabel('Frequency')\n",
    "plt.title('Histogram: Capacity=250 vs New Capacity')\n",
    "plt.legend(loc='upper right')\n",
    "\n",
    "# Show the plot\n",
    "plt.show()\n"
   ]
  },
  {
   "cell_type": "code",
   "execution_count": null,
   "id": "fe732329",
   "metadata": {},
   "outputs": [],
   "source": [
    "from changer_capacity.visualisation.maps import make_blocks_capacity\n",
    "\n",
    "m = make_blocks_capacity(\n",
    "    buildings_blocks=buildings_blocks,\n",
    "    prov_df_old=prov_df,\n",
    "    prov_df_new=prov_df_new,\n",
    "    id_col=None,            # или \"block_id\"\n",
    "    prov_id_col_old=None,   # если id в prov_df_old — индекс\n",
    "    prov_id_col_new=None,   # если id в prov_df_new — индекс\n",
    "    capacity_col=\"capacity\"\n",
    ")\n",
    "m"
   ]
  },
  {
   "cell_type": "code",
   "execution_count": null,
   "id": "76b1f697",
   "metadata": {},
   "outputs": [],
   "source": [
    "# m.save(\"capacity_change_map.html\")"
   ]
  }
 ],
 "metadata": {
  "kernelspec": {
   "display_name": ".venv",
   "language": "python",
   "name": "python3"
  },
  "language_info": {
   "codemirror_mode": {
    "name": "ipython",
    "version": 3
   },
   "file_extension": ".py",
   "mimetype": "text/x-python",
   "name": "python",
   "nbconvert_exporter": "python",
   "pygments_lexer": "ipython3",
   "version": "3.10.11"
  }
 },
 "nbformat": 4,
 "nbformat_minor": 5
}
