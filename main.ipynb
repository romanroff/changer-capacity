{
 "cells": [
  {
   "cell_type": "code",
   "execution_count": null,
   "id": "a45728e3",
   "metadata": {},
   "outputs": [],
   "source": [
    "import osmnx as ox\n",
    "import pandas as pd\n",
    "import geopandas as gpd\n",
    "from changer_capacity.services.process import process\n",
    "from changer_capacity.utils.get_capacity import get_min_capacity"
   ]
  },
  {
   "cell_type": "code",
   "execution_count": 5,
   "id": "9ad4bf85",
   "metadata": {},
   "outputs": [
    {
     "data": {
      "application/vnd.microsoft.datawrangler.viewer.v0+json": {
       "columns": [
        {
         "name": "index",
         "rawType": "int64",
         "type": "integer"
        },
        {
         "name": "name",
         "rawType": "object",
         "type": "string"
        },
        {
         "name": "capacity",
         "rawType": "int64",
         "type": "integer"
        }
       ],
       "ref": "b0a60604-3238-48ee-9fac-32eaf429c741",
       "rows": [
        [
         "0",
         "school",
         "250"
        ],
        [
         "1",
         "kindergarten",
         "80"
        ],
        [
         "2",
         "hospital",
         "110"
        ],
        [
         "3",
         "polyclinic",
         "50"
        ],
        [
         "4",
         "pitch",
         "10"
        ],
        [
         "5",
         "swimming_pool",
         "150"
        ],
        [
         "6",
         "stadium",
         "2000"
        ],
        [
         "7",
         "theatre",
         "800"
        ],
        [
         "8",
         "museum",
         "200"
        ],
        [
         "9",
         "cinema",
         "450"
        ],
        [
         "10",
         "mall",
         "7000"
        ],
        [
         "11",
         "convenience",
         "50"
        ],
        [
         "12",
         "supermarket",
         "200"
        ],
        [
         "13",
         "cemetery",
         "130"
        ],
        [
         "14",
         "religion",
         "1300"
        ],
        [
         "15",
         "market",
         "3000"
        ],
        [
         "16",
         "university",
         "500"
        ],
        [
         "17",
         "playground",
         "20"
        ],
        [
         "18",
         "pharmacy",
         "20"
        ],
        [
         "19",
         "fuel",
         "30"
        ],
        [
         "20",
         "beach",
         "480"
        ],
        [
         "21",
         "train_building",
         "2500"
        ],
        [
         "22",
         "bank",
         "250"
        ],
        [
         "23",
         "lawyer",
         "25"
        ],
        [
         "24",
         "cafe",
         "25"
        ],
        [
         "25",
         "subway_entrance",
         "30000"
        ],
        [
         "26",
         "multifunctional_center",
         "150"
        ],
        [
         "27",
         "hairdresser",
         "10"
        ],
        [
         "28",
         "restaurant",
         "45"
        ],
        [
         "29",
         "bar",
         "30"
        ],
        [
         "30",
         "park",
         "270"
        ],
        [
         "31",
         "government",
         "100"
        ],
        [
         "32",
         "recruitment",
         "460"
        ],
        [
         "33",
         "hotel",
         "300"
        ],
        [
         "34",
         "zoo",
         "100"
        ],
        [
         "35",
         "circus",
         "1680"
        ],
        [
         "36",
         "post",
         "40"
        ],
        [
         "37",
         "police",
         "60"
        ],
        [
         "38",
         "dog_park",
         "106"
        ],
        [
         "39",
         "hostel",
         "20"
        ],
        [
         "40",
         "bakery",
         "35"
        ],
        [
         "41",
         "parking",
         "50"
        ],
        [
         "42",
         "guest_house",
         "50"
        ],
        [
         "43",
         "reserve",
         "250"
        ],
        [
         "44",
         "sanatorium",
         "100"
        ],
        [
         "45",
         "embankment",
         "700"
        ],
        [
         "46",
         "machine_building_plant",
         "2000"
        ],
        [
         "47",
         "brewery",
         "20"
        ],
        [
         "48",
         "woodworking_plant",
         "100"
        ],
        [
         "49",
         "oil_refinery",
         "7000"
        ]
       ],
       "shape": {
        "columns": 2,
        "rows": 81
       }
      },
      "text/html": [
       "<div>\n",
       "<style scoped>\n",
       "    .dataframe tbody tr th:only-of-type {\n",
       "        vertical-align: middle;\n",
       "    }\n",
       "\n",
       "    .dataframe tbody tr th {\n",
       "        vertical-align: top;\n",
       "    }\n",
       "\n",
       "    .dataframe thead th {\n",
       "        text-align: right;\n",
       "    }\n",
       "</style>\n",
       "<table border=\"1\" class=\"dataframe\">\n",
       "  <thead>\n",
       "    <tr style=\"text-align: right;\">\n",
       "      <th></th>\n",
       "      <th>name</th>\n",
       "      <th>capacity</th>\n",
       "    </tr>\n",
       "  </thead>\n",
       "  <tbody>\n",
       "    <tr>\n",
       "      <th>0</th>\n",
       "      <td>school</td>\n",
       "      <td>250</td>\n",
       "    </tr>\n",
       "    <tr>\n",
       "      <th>1</th>\n",
       "      <td>kindergarten</td>\n",
       "      <td>80</td>\n",
       "    </tr>\n",
       "    <tr>\n",
       "      <th>2</th>\n",
       "      <td>hospital</td>\n",
       "      <td>110</td>\n",
       "    </tr>\n",
       "    <tr>\n",
       "      <th>3</th>\n",
       "      <td>polyclinic</td>\n",
       "      <td>50</td>\n",
       "    </tr>\n",
       "    <tr>\n",
       "      <th>4</th>\n",
       "      <td>pitch</td>\n",
       "      <td>10</td>\n",
       "    </tr>\n",
       "    <tr>\n",
       "      <th>...</th>\n",
       "      <td>...</td>\n",
       "      <td>...</td>\n",
       "    </tr>\n",
       "    <tr>\n",
       "      <th>76</th>\n",
       "      <td>golf_course</td>\n",
       "      <td>450</td>\n",
       "    </tr>\n",
       "    <tr>\n",
       "      <th>77</th>\n",
       "      <td>plant_gas_oil</td>\n",
       "      <td>264</td>\n",
       "    </tr>\n",
       "    <tr>\n",
       "      <th>78</th>\n",
       "      <td>railway_roundhouse</td>\n",
       "      <td>70</td>\n",
       "    </tr>\n",
       "    <tr>\n",
       "      <th>79</th>\n",
       "      <td>aeroway_terminal</td>\n",
       "      <td>320</td>\n",
       "    </tr>\n",
       "    <tr>\n",
       "      <th>80</th>\n",
       "      <td>crematorium</td>\n",
       "      <td>80</td>\n",
       "    </tr>\n",
       "  </tbody>\n",
       "</table>\n",
       "<p>81 rows × 2 columns</p>\n",
       "</div>"
      ],
      "text/plain": [
       "                  name  capacity\n",
       "0               school       250\n",
       "1         kindergarten        80\n",
       "2             hospital       110\n",
       "3           polyclinic        50\n",
       "4                pitch        10\n",
       "..                 ...       ...\n",
       "76         golf_course       450\n",
       "77       plant_gas_oil       264\n",
       "78  railway_roundhouse        70\n",
       "79    aeroway_terminal       320\n",
       "80         crematorium        80\n",
       "\n",
       "[81 rows x 2 columns]"
      ]
     },
     "execution_count": 5,
     "metadata": {},
     "output_type": "execute_result"
    }
   ],
   "source": [
    "base_capacity = get_min_capacity()\n",
    "base_capacity"
   ]
  },
  {
   "cell_type": "code",
   "execution_count": null,
   "id": "4da68405",
   "metadata": {},
   "outputs": [],
   "source": [
    "buildings_blocks = gpd.read_file('data/blocks.geojson')\n",
    "acc_mx = pd.read_pickle('data/accessibility_matrix_drive.pickle')"
   ]
  },
  {
   "cell_type": "code",
   "execution_count": null,
   "id": "b2680108",
   "metadata": {},
   "outputs": [],
   "source": [
    "boundaries = ox.geocode_to_gdf('R337422', by_osmid=True)\n",
    "local_crs = boundaries.estimate_utm_crs()"
   ]
  },
  {
   "cell_type": "code",
   "execution_count": null,
   "id": "4dd3de9f",
   "metadata": {},
   "outputs": [],
   "source": [
    "service_type = 'school'\n",
    "service = ox.features_from_polygon(boundaries.to_crs(4326).union_all(), tags={\"amenity\": service_type}).reset_index(drop=True).to_crs(local_crs)"
   ]
  },
  {
   "cell_type": "code",
   "execution_count": null,
   "id": "3be2064b",
   "metadata": {},
   "outputs": [],
   "source": [
    "demand_per_1000 = 120\n",
    "base_count = 250\n",
    "m2_per_person = 14\n",
    "k = 2\n",
    "\n",
    "result, prov_df, prov_df_new = process(service_type, service, buildings_blocks, acc_mx, local_crs, demand_per_1000, base_count, m2_per_person, k)"
   ]
  },
  {
   "cell_type": "code",
   "execution_count": null,
   "id": "abfbed3a",
   "metadata": {},
   "outputs": [],
   "source": [
    "schools_new = result[['geometry','new_capacity']].rename({'new_capacity': 'capacity'}, axis=1)\n",
    "\n",
    "import matplotlib.pyplot as plt\n",
    "import pandas as pd\n",
    "import numpy as np\n",
    "\n",
    "# Filter the data to only include rows where capacity equals 250\n",
    "filtered_data = result[result['capacity'] == 250.0]\n",
    "\n",
    "plt.figure(figsize=(10, 6))\n",
    "BINS = np.arange(200, 2001, 10)\n",
    "\n",
    "# Plot histograms for both columns using the filtered data\n",
    "plt.hist(result['capacity'], alpha=1, label='Capacity (250)', bins=BINS)\n",
    "plt.hist(result['new_capacity'], alpha=0.5, label='New Capacity', bins=BINS)\n",
    "\n",
    "# Add labels and title\n",
    "plt.xlabel('Value')\n",
    "plt.ylabel('Frequency')\n",
    "plt.title('Histogram: Capacity=250 vs New Capacity')\n",
    "plt.legend(loc='upper right')\n",
    "\n",
    "# Show the plot\n",
    "plt.show()\n"
   ]
  },
  {
   "cell_type": "code",
   "execution_count": null,
   "id": "778c0774",
   "metadata": {},
   "outputs": [],
   "source": [
    "# %pip install folium mapclassify -qq"
   ]
  },
  {
   "cell_type": "code",
   "execution_count": null,
   "id": "fe732329",
   "metadata": {},
   "outputs": [],
   "source": [
    "from changer_capacity.visualisation.maps import make_blocks_capacity\n",
    "\n",
    "m = make_blocks_capacity(\n",
    "    buildings_blocks=buildings_blocks,\n",
    "    prov_df_old=prov_df,\n",
    "    prov_df_new=prov_df_new,\n",
    "    id_col=None,            # или \"block_id\"\n",
    "    prov_id_col_old=None,   # если id в prov_df_old — индекс\n",
    "    prov_id_col_new=None,   # если id в prov_df_new — индекс\n",
    "    capacity_col=\"capacity\"\n",
    ")\n",
    "m"
   ]
  },
  {
   "cell_type": "code",
   "execution_count": null,
   "id": "76b1f697",
   "metadata": {},
   "outputs": [],
   "source": [
    "# m.save(\"capacity_change_map.html\")"
   ]
  }
 ],
 "metadata": {
  "kernelspec": {
   "display_name": ".venv",
   "language": "python",
   "name": "python3"
  },
  "language_info": {
   "codemirror_mode": {
    "name": "ipython",
    "version": 3
   },
   "file_extension": ".py",
   "mimetype": "text/x-python",
   "name": "python",
   "nbconvert_exporter": "python",
   "pygments_lexer": "ipython3",
   "version": "3.10.11"
  }
 },
 "nbformat": 4,
 "nbformat_minor": 5
}
